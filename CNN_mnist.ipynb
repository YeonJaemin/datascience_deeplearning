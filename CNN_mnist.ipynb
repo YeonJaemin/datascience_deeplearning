{
 "cells": [
  {
   "cell_type": "code",
   "execution_count": 1,
   "metadata": {
    "collapsed": true
   },
   "outputs": [],
   "source": [
    "import tensorflow as tf\n",
    "from tensorflow.examples.tutorials.mnist import input_data"
   ]
  },
  {
   "cell_type": "code",
   "execution_count": 2,
   "metadata": {
    "collapsed": false
   },
   "outputs": [
    {
     "name": "stdout",
     "output_type": "stream",
     "text": [
      "Extracting MNIST_data/train-images-idx3-ubyte.gz\n",
      "Extracting MNIST_data/train-labels-idx1-ubyte.gz\n",
      "Extracting MNIST_data/t10k-images-idx3-ubyte.gz\n",
      "Extracting MNIST_data/t10k-labels-idx1-ubyte.gz\n"
     ]
    }
   ],
   "source": [
    "mnist = input_data.read_data_sets('MNIST_data', one_hot=True) "
   ]
  },
  {
   "cell_type": "code",
   "execution_count": 3,
   "metadata": {
    "collapsed": true
   },
   "outputs": [],
   "source": [
    "x = tf.placeholder(\"float\", shape=[None, 784], name = 'x')  \n",
    "y_target = tf.placeholder(\"float\", shape=[None, 10], name = 'y_target')\n",
    "\n",
    "x_image = tf.reshape(x, [-1,28,28,1], name=\"x_image\")"
   ]
  },
  {
   "cell_type": "code",
   "execution_count": 4,
   "metadata": {
    "collapsed": true
   },
   "outputs": [],
   "source": [
    "# W is [row, col, channel, feature]\n",
    "W_conv1 = tf.Variable(tf.truncated_normal([5, 5, 1, 32], stddev=0.1), name=\"W_conv1\") \n",
    "b_conv1 = tf.Variable(tf.zeros([32]), name=\"b_conv1\")\n",
    "\n",
    "h_conv1 = tf.nn.relu(tf.nn.conv2d(x_image, W_conv1, strides=[1, 1, 1, 1], padding='SAME') + b_conv1, name=\"h_conv1\")\n",
    "h_pool1 = tf.nn.max_pool( h_conv1 , ksize=[1, 2, 2, 1], strides=[1, 2, 2, 1], padding='SAME', name = \"h_pool1\")\n",
    "\n",
    "W_conv2 = tf.Variable(tf.truncated_normal([5, 5, 32, 64], stddev=0.1), name=\"W_conv2\") \n",
    "b_conv2 = tf.Variable(tf.zeros([64]), name=\"b_conv2\")\n",
    "\n",
    "h_conv2 = tf.nn.relu(tf.nn.conv2d(h_pool1, W_conv2, strides=[1, 1, 1, 1], padding='SAME') + b_conv2, name=\"h_conv2\")\n",
    "h_pool2 = tf.nn.max_pool( h_conv2 , ksize=[1, 2, 2, 1], strides=[1, 2, 2, 1], padding='SAME', name = \"h_pool2\")"
   ]
  },
  {
   "cell_type": "code",
   "execution_count": 5,
   "metadata": {
    "collapsed": true
   },
   "outputs": [],
   "source": [
    "# Build a fully connected layer\n",
    "h_pool2_flat = tf.reshape(h_pool2, [-1, 7*7*64], name=\"h_pool2_flat\")\n",
    "W_fc1 = tf.Variable(tf.truncated_normal([7 * 7 * 64, 1024], stddev=0.1), name = 'W_fc1')\n",
    "b_fc1 = tf.Variable(tf.zeros([1024]), name = 'b_fc1')\n",
    "h_fc1 = tf.nn.relu(tf.matmul(h_pool2_flat, W_fc1) + b_fc1, name=\"h_fc1\")\n",
    "\n",
    "keep_prob = tf.placeholder(\"float\", name=\"keep_prob\")\n",
    "h_fc1 = tf.nn.dropout(h_fc1, keep_prob, name=\"h_fc1_drop\")\n",
    "\n",
    "W_fc2 = tf.Variable(tf.truncated_normal([1024, 10], stddev=0.1), name = 'W_fc2')\n",
    "b_fc2 = tf.Variable(tf.zeros([10]), name = 'b_fc2')\n",
    "\n",
    "y=tf.nn.softmax(tf.matmul(h_fc1, W_fc2) + b_fc2, name=\"y\")"
   ]
  },
  {
   "cell_type": "code",
   "execution_count": 6,
   "metadata": {
    "collapsed": true
   },
   "outputs": [],
   "source": [
    "cross_entropy = -tf.reduce_sum(y_target*tf.log(y), name = 'cross_entropy')\n",
    "train_step = tf.train.AdamOptimizer(1e-4).minimize(cross_entropy)"
   ]
  },
  {
   "cell_type": "code",
   "execution_count": 7,
   "metadata": {
    "collapsed": true
   },
   "outputs": [],
   "source": [
    "correct_prediction = tf.equal(tf.argmax(y, 1), tf.argmax(y_target, 1))\n",
    "accuracy = tf.reduce_mean(tf.cast(correct_prediction, \"float\")) "
   ]
  },
  {
   "cell_type": "code",
   "execution_count": 8,
   "metadata": {
    "collapsed": false,
    "scrolled": true
   },
   "outputs": [
    {
     "name": "stdout",
     "output_type": "stream",
     "text": [
      "step 0, training accuracy: 0.120\n",
      "step 100, training accuracy: 0.940\n",
      "step 200, training accuracy: 0.970\n",
      "step 300, training accuracy: 0.960\n",
      "step 400, training accuracy: 0.950\n",
      "step 500, training accuracy: 0.970\n",
      "step 600, training accuracy: 0.930\n",
      "step 700, training accuracy: 0.970\n",
      "step 800, training accuracy: 0.990\n",
      "step 900, training accuracy: 0.960\n",
      "step 1000, training accuracy: 0.950\n",
      "step 1100, training accuracy: 0.980\n",
      "step 1200, training accuracy: 0.970\n",
      "step 1300, training accuracy: 0.980\n",
      "step 1400, training accuracy: 0.950\n",
      "step 1500, training accuracy: 0.990\n",
      "step 1600, training accuracy: 0.960\n",
      "step 1700, training accuracy: 1.000\n",
      "step 1800, training accuracy: 0.990\n",
      "step 1900, training accuracy: 0.980\n",
      "step 2000, training accuracy: 1.000\n",
      "step 2100, training accuracy: 0.980\n",
      "step 2200, training accuracy: 0.980\n",
      "step 2300, training accuracy: 1.000\n",
      "step 2400, training accuracy: 0.990\n",
      "step 2500, training accuracy: 0.990\n",
      "step 2600, training accuracy: 1.000\n",
      "step 2700, training accuracy: 0.990\n",
      "step 2800, training accuracy: 0.990\n",
      "step 2900, training accuracy: 0.990\n",
      "step 3000, training accuracy: 0.990\n",
      "step 3100, training accuracy: 0.990\n",
      "step 3200, training accuracy: 0.990\n",
      "step 3300, training accuracy: 0.990\n",
      "step 3400, training accuracy: 0.980\n",
      "step 3500, training accuracy: 1.000\n",
      "step 3600, training accuracy: 0.990\n",
      "step 3700, training accuracy: 0.970\n",
      "step 3800, training accuracy: 1.000\n",
      "step 3900, training accuracy: 1.000\n",
      "step 4000, training accuracy: 1.000\n",
      "step 4100, training accuracy: 1.000\n",
      "step 4200, training accuracy: 1.000\n",
      "step 4300, training accuracy: 0.990\n",
      "step 4400, training accuracy: 1.000\n",
      "step 4500, training accuracy: 0.990\n",
      "step 4600, training accuracy: 1.000\n",
      "step 4700, training accuracy: 1.000\n",
      "step 4800, training accuracy: 1.000\n",
      "step 4900, training accuracy: 0.980\n",
      "step 5000, training accuracy: 1.000\n",
      "test accuracy: 0.996\n"
     ]
    }
   ],
   "source": [
    "sess = tf.Session(config=tf.ConfigProto(gpu_options=tf.GPUOptions(per_process_gpu_memory_fraction=0.05))) \n",
    "sess.run(tf.initialize_all_variables())# initialize the variables\n",
    "\n",
    "for i in range(5001): # minibatch iteraction\n",
    "    batch = mnist.train.next_batch(100) # minibatch size\n",
    "    sess.run(train_step, feed_dict={x: batch[0], y_target: batch[1], keep_prob: 0.5}) # placeholder's none length is replaced by i:i+100 indexes\n",
    "\n",
    "    if i%100 == 0:\n",
    "        train_accuracy = sess.run(accuracy, feed_dict={x:batch[0], y_target: batch[1], keep_prob: 1})\n",
    "        print \"step %d, training accuracy: %.3f\"%(i, train_accuracy)\n",
    "\n",
    "print  \"test accuracy: %g\"% sess.run(accuracy, feed_dict={x: mnist.test.images[0:250], y_target: mnist.test.labels[0:250], keep_prob: 1})\n",
    "sess.close()"
   ]
  },
  {
   "cell_type": "code",
   "execution_count": null,
   "metadata": {
    "collapsed": true
   },
   "outputs": [],
   "source": []
  }
 ],
 "metadata": {
  "kernelspec": {
   "display_name": "Python 2",
   "language": "python",
   "name": "python2"
  },
  "language_info": {
   "codemirror_mode": {
    "name": "ipython",
    "version": 2
   },
   "file_extension": ".py",
   "mimetype": "text/x-python",
   "name": "python",
   "nbconvert_exporter": "python",
   "pygments_lexer": "ipython2",
   "version": "2.7.12"
  }
 },
 "nbformat": 4,
 "nbformat_minor": 1
}
