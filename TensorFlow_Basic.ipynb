{
 "cells": [
  {
   "cell_type": "code",
   "execution_count": null,
   "metadata": {
    "collapsed": true
   },
   "outputs": [],
   "source": [
    "import tensorflow as tf"
   ]
  },
  {
   "cell_type": "code",
   "execution_count": null,
   "metadata": {
    "collapsed": false,
    "scrolled": true
   },
   "outputs": [],
   "source": [
    "\"\"\"\n",
    "Tensor\n",
    "\"\"\"\n",
    "scala = tf.Variable(0)\n",
    "vector = tf.Variable([1.0, 2.0, 3.0])\n",
    "matrix = tf.Variable(([[1.0, 2.0], [3.0, 4.0], [5.0, 6.0]]))\n",
    "\n",
    "with tf.Session() as sess:    \n",
    "    #sess.run(tf.global_variables_initializer())\n",
    "    sess.run(tf.initialize_all_variables())\n",
    "    \n",
    "    #print c\n",
    "    print c.eval()\n",
    "    print scala.eval()\n",
    "    print vector.eval()\n",
    "    print matrix.eval()\n"
   ]
  },
  {
   "cell_type": "code",
   "execution_count": null,
   "metadata": {
    "collapsed": false
   },
   "outputs": [],
   "source": [
    "\"\"\"\n",
    "constant & variable\n",
    "\"\"\"\n",
    "#1. variable\n",
    "\n",
    "# create a variable whose original value is 2\n",
    "my_var = tf.Variable(2, name=\"my_var\") \n",
    "\n",
    "# assign 2 * my_var to my_var and run the op my_var_times_two\n",
    "my_var_times_two = my_var.assign(2 * my_var)"
   ]
  },
  {
   "cell_type": "code",
   "execution_count": null,
   "metadata": {
    "collapsed": false
   },
   "outputs": [],
   "source": [
    "with tf.Session() as sess:\n",
    "    sess.run(tf.initialize_all_variables())\n",
    "    print sess.run(my_var_times_two) # >> 4\n",
    "    print sess.run(my_var_times_two) # >> 8\n",
    "    print sess.run(my_var_times_two) # >> 16"
   ]
  },
  {
   "cell_type": "code",
   "execution_count": null,
   "metadata": {
    "collapsed": false,
    "scrolled": true
   },
   "outputs": [],
   "source": [
    "# 2. constant\n",
    "\n",
    "# create a constant whose original value is 2\n",
    "my_cons = tf.constant(2, name=\"my_cons\") \n",
    "\n",
    "# assign 2 * my_var to my_var and run the op my_var_times_two\n",
    "my_cons_times_two = my_cons.assign(2 * my_cons)"
   ]
  },
  {
   "cell_type": "code",
   "execution_count": null,
   "metadata": {
    "collapsed": false,
    "scrolled": true
   },
   "outputs": [],
   "source": [
    "with tf.Session() as sess:\n",
    "    #sess.run(tf.initialize_all_variables())\n",
    "    print sess.run(my_cons_times_two) # >> 4\n",
    "    print sess.run(my_cons_times_two) # >> 8\n",
    "    print sess.run(my_cons_times_two) # >> 16"
   ]
  },
  {
   "cell_type": "code",
   "execution_count": null,
   "metadata": {
    "collapsed": false
   },
   "outputs": [],
   "source": [
    "\"\"\"\n",
    "operations\n",
    "\"\"\"\n",
    "\n",
    "x = tf.Variable(3.0, name='x')\n",
    "y = tf.Variable(2.0, name='y')\n",
    "\n",
    "op1 = tf.add(x, y)\n",
    "op2 = tf.mul(x, y)\n",
    "# https://www.tensorflow.org/api_guides/python/math_ops\n",
    "\n",
    "with tf.Session() as sess:\n",
    "    sess.run(tf.initialize_all_variables())\n",
    "    print sess.run(op1)\n",
    "    print sess.run(op2)"
   ]
  },
  {
   "cell_type": "code",
   "execution_count": null,
   "metadata": {
    "collapsed": false
   },
   "outputs": [],
   "source": [
    "\"\"\"\n",
    "Graph & Session\n",
    "\n",
    "Phase 1: assemble a graph\n",
    "Phase 2: use a session to execute operations in the graph\n",
    "\"\"\"\n",
    "\n",
    "#variables\n",
    "x = tf.Variable(3.0, name='x')\n",
    "y = tf.Variable(2.0, name='y')\n",
    "\n",
    "#operations\n",
    "op1 = tf.add(x, y)\n",
    "op2 = tf.mul(x, y)\n",
    "op3 = tf.add(op2, op1) #result\n",
    "\n",
    "with tf.Session() as sess:\n",
    "    sess.run(tf.initialize_all_variables())\n",
    "    print sess.run(op3)"
   ]
  },
  {
   "cell_type": "code",
   "execution_count": null,
   "metadata": {
    "collapsed": false
   },
   "outputs": [],
   "source": [
    "\"\"\"\n",
    "Placeholder\n",
    "\"\"\"\n",
    "X = tf.placeholder(tf.float32)\n",
    "Y = tf.constant(2.0)\n",
    "\n",
    "p_op1 = tf.add(X, Y)\n",
    "p_op2 = tf.mul(X, Y)\n",
    "p_op3 = tf.add(p_op1, p_op2)\n",
    "\n",
    "with tf.Session() as sess:\n",
    "    sess.run(tf.initialize_all_variables())\n",
    "    \"\"\"\n",
    "    for i in range(10):\n",
    "        print sess.run(p_op3, {X: i})\n",
    "    \"\"\"\n",
    "    print sess.run(p_op3, {X: 1})\n"
   ]
  },
  {
   "cell_type": "code",
   "execution_count": null,
   "metadata": {
    "collapsed": true
   },
   "outputs": [],
   "source": []
  }
 ],
 "metadata": {
  "kernelspec": {
   "display_name": "Python 2",
   "language": "python",
   "name": "python2"
  },
  "language_info": {
   "codemirror_mode": {
    "name": "ipython",
    "version": 2
   },
   "file_extension": ".py",
   "mimetype": "text/x-python",
   "name": "python",
   "nbconvert_exporter": "python",
   "pygments_lexer": "ipython2",
   "version": "2.7.12"
  }
 },
 "nbformat": 4,
 "nbformat_minor": 1
}
