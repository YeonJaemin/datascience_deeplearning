{
 "cells": [
  {
   "cell_type": "code",
   "execution_count": 1,
   "metadata": {
    "collapsed": true
   },
   "outputs": [],
   "source": [
    "import tensorflow as tf"
   ]
  },
  {
   "cell_type": "code",
   "execution_count": 2,
   "metadata": {
    "collapsed": false,
    "scrolled": true
   },
   "outputs": [
    {
     "name": "stdout",
     "output_type": "stream",
     "text": [
      "0\n",
      "[ 1.  2.  3.]\n",
      "[[ 1.  2.]\n",
      " [ 3.  4.]\n",
      " [ 5.  6.]]\n"
     ]
    }
   ],
   "source": [
    "\"\"\"\n",
    "Tensor\n",
    "\"\"\"\n",
    "scala = tf.Variable(0)\n",
    "vector = tf.Variable([1.0, 2.0, 3.0])\n",
    "matrix = tf.Variable(([[1.0, 2.0], [3.0, 4.0], [5.0, 6.0]]))\n",
    "\n",
    "with tf.Session() as sess:    \n",
    "    #sess.run(tf.global_variables_initializer())\n",
    "    sess.run(tf.initialize_all_variables())\n",
    "    \n",
    "    print scala.eval()\n",
    "    print vector.eval()\n",
    "    print matrix.eval()\n"
   ]
  },
  {
   "cell_type": "code",
   "execution_count": 3,
   "metadata": {
    "collapsed": false
   },
   "outputs": [],
   "source": [
    "\"\"\"\n",
    "constant & variable\n",
    "\"\"\"\n",
    "#1. variable\n",
    "\n",
    "# create a variable whose original value is 2\n",
    "my_var = tf.Variable(2, name=\"my_var\") \n",
    "\n",
    "# assign 2 * my_var to my_var and run the op my_var_times_two\n",
    "my_var_times_two = my_var.assign(2 * my_var)"
   ]
  },
  {
   "cell_type": "code",
   "execution_count": 4,
   "metadata": {
    "collapsed": false
   },
   "outputs": [
    {
     "name": "stdout",
     "output_type": "stream",
     "text": [
      "4\n",
      "8\n",
      "16\n"
     ]
    }
   ],
   "source": [
    "with tf.Session() as sess:\n",
    "    sess.run(tf.initialize_all_variables())\n",
    "    print sess.run(my_var_times_two) # >> 4\n",
    "    print sess.run(my_var_times_two) # >> 8\n",
    "    print sess.run(my_var_times_two) # >> 16"
   ]
  },
  {
   "cell_type": "code",
   "execution_count": 5,
   "metadata": {
    "collapsed": false,
    "scrolled": true
   },
   "outputs": [
    {
     "ename": "AttributeError",
     "evalue": "'Tensor' object has no attribute 'assign'",
     "output_type": "error",
     "traceback": [
      "\u001b[0;31m---------------------------------------------------------------------------\u001b[0m",
      "\u001b[0;31mAttributeError\u001b[0m                            Traceback (most recent call last)",
      "\u001b[0;32m<ipython-input-5-92ddc0d8d974>\u001b[0m in \u001b[0;36m<module>\u001b[0;34m()\u001b[0m\n\u001b[1;32m      5\u001b[0m \u001b[0;34m\u001b[0m\u001b[0m\n\u001b[1;32m      6\u001b[0m \u001b[0;31m# assign 2 * my_var to my_var and run the op my_var_times_two\u001b[0m\u001b[0;34m\u001b[0m\u001b[0;34m\u001b[0m\u001b[0m\n\u001b[0;32m----> 7\u001b[0;31m \u001b[0mmy_cons_times_two\u001b[0m \u001b[0;34m=\u001b[0m \u001b[0mmy_cons\u001b[0m\u001b[0;34m.\u001b[0m\u001b[0massign\u001b[0m\u001b[0;34m(\u001b[0m\u001b[0;36m2\u001b[0m \u001b[0;34m*\u001b[0m \u001b[0mmy_cons\u001b[0m\u001b[0;34m)\u001b[0m\u001b[0;34m\u001b[0m\u001b[0m\n\u001b[0m",
      "\u001b[0;31mAttributeError\u001b[0m: 'Tensor' object has no attribute 'assign'"
     ]
    }
   ],
   "source": [
    "# 2. constant\n",
    "\n",
    "# create a constant whose original value is 2\n",
    "my_cons = tf.constant(2, name=\"my_cons\") \n",
    "\n",
    "# assign 2 * my_var to my_var and run the op my_var_times_two\n",
    "my_cons_times_two = my_cons.assign(2 * my_cons)"
   ]
  },
  {
   "cell_type": "code",
   "execution_count": null,
   "metadata": {
    "collapsed": false,
    "scrolled": true
   },
   "outputs": [],
   "source": [
    "with tf.Session() as sess:\n",
    "    #sess.run(tf.initialize_all_variables())\n",
    "    print sess.run(my_cons_times_two) # >> 4\n",
    "    print sess.run(my_cons_times_two) # >> 8\n",
    "    print sess.run(my_cons_times_two) # >> 16"
   ]
  },
  {
   "cell_type": "code",
   "execution_count": 6,
   "metadata": {
    "collapsed": false
   },
   "outputs": [
    {
     "name": "stdout",
     "output_type": "stream",
     "text": [
      "5.0\n",
      "6.0\n"
     ]
    }
   ],
   "source": [
    "\"\"\"\n",
    "operations\n",
    "\"\"\"\n",
    "\n",
    "x = tf.Variable(3.0, name='x')\n",
    "y = tf.Variable(2.0, name='y')\n",
    "\n",
    "op1 = tf.add(x, y)\n",
    "op2 = tf.mul(x, y)\n",
    "# https://www.tensorflow.org/api_guides/python/math_ops\n",
    "\n",
    "with tf.Session() as sess:\n",
    "    sess.run(tf.initialize_all_variables())\n",
    "    print sess.run(op1)\n",
    "    print sess.run(op2)"
   ]
  },
  {
   "cell_type": "code",
   "execution_count": 7,
   "metadata": {
    "collapsed": false
   },
   "outputs": [
    {
     "name": "stdout",
     "output_type": "stream",
     "text": [
      "11.0\n"
     ]
    }
   ],
   "source": [
    "\"\"\"\n",
    "Graph & Session\n",
    "\n",
    "Phase 1: assemble a graph\n",
    "Phase 2: use a session to execute operations in the graph\n",
    "\"\"\"\n",
    "\n",
    "#variables\n",
    "x = tf.Variable(3.0, name='x')\n",
    "y = tf.Variable(2.0, name='y')\n",
    "\n",
    "#operations\n",
    "op1 = tf.add(x, y)\n",
    "op2 = tf.mul(x, y)\n",
    "op3 = tf.add(op2, op1) #result\n",
    "\n",
    "with tf.Session() as sess:\n",
    "    sess.run(tf.initialize_all_variables())\n",
    "    print sess.run(op3)"
   ]
  },
  {
   "cell_type": "code",
   "execution_count": 8,
   "metadata": {
    "collapsed": false
   },
   "outputs": [
    {
     "name": "stdout",
     "output_type": "stream",
     "text": [
      "11.0\n"
     ]
    }
   ],
   "source": [
    "\"\"\"\n",
    "Placeholder\n",
    "\"\"\"\n",
    "X = tf.placeholder(tf.float32)\n",
    "Y = tf.constant(2.0)\n",
    "\n",
    "p_op1 = tf.add(X, Y)\n",
    "p_op2 = tf.mul(X, Y)\n",
    "p_op3 = tf.add(p_op1, p_op2)\n",
    "\n",
    "with tf.Session() as sess:\n",
    "    sess.run(tf.initialize_all_variables())\n",
    "    print sess.run(p_op3, {X: 3})\n",
    "    \"\"\"\n",
    "    for i in range(10):\n",
    "        print sess.run(p_op3, {X: i})\n",
    "    \"\"\"\n",
    "\n"
   ]
  },
  {
   "cell_type": "code",
   "execution_count": null,
   "metadata": {
    "collapsed": true
   },
   "outputs": [],
   "source": []
  }
 ],
 "metadata": {
  "kernelspec": {
   "display_name": "Python 2",
   "language": "python",
   "name": "python2"
  },
  "language_info": {
   "codemirror_mode": {
    "name": "ipython",
    "version": 2
   },
   "file_extension": ".py",
   "mimetype": "text/x-python",
   "name": "python",
   "nbconvert_exporter": "python",
   "pygments_lexer": "ipython2",
   "version": "2.7.12"
  }
 },
 "nbformat": 4,
 "nbformat_minor": 1
}
